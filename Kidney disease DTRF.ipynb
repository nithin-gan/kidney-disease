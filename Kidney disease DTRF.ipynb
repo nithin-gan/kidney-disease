{
 "cells": [
  {
   "cell_type": "markdown",
   "metadata": {
    "colab_type": "text",
    "id": "veUDaU-slFaB"
   },
   "source": [
    "## Data Descriptions\n",
    "\n",
    "### Kidney Disease Dataset\n",
    "\n",
    "Predicting Chronic Kidney Disease based on health records.\n",
    "\n",
    "Given 24 health related attributes taken in 2-month period of 400 patients, using the information of the 158 patients with complete records to predict the outcome (i.e. whether one has chronic kidney disease) of the remaining 242 patients (with missing values in their records).\n",
    "\n",
    "**Problem Statement :** Classify whether the patients have \"Classification\" column 'ckd' or 'notckd'. This means whether the patient has kidney disorder or not."
   ]
  },
  {
   "cell_type": "code",
   "execution_count": 1,
   "metadata": {
    "colab": {},
    "colab_type": "code",
    "id": "9M8NuB0wlFaF"
   },
   "outputs": [],
   "source": [
    "# Importing the dataset and libaries\n",
    "\n",
    "import pandas as pd\n",
    "import numpy as np\n",
    "import matplotlib.pyplot as plt\n",
    "import seaborn as sns\n",
    "%matplotlib inline"
   ]
  },
  {
   "cell_type": "code",
   "execution_count": 2,
   "metadata": {
    "colab": {},
    "colab_type": "code",
    "id": "5izM2645lFaQ"
   },
   "outputs": [],
   "source": [
    "kidney_df = pd.read_csv('assignment_kidney_disease_DTRF.csv')"
   ]
  },
  {
   "cell_type": "code",
   "execution_count": 3,
   "metadata": {
    "colab": {},
    "colab_type": "code",
    "id": "LB61_vjTlFaV",
    "outputId": "92307320-016e-43b5-828d-e6d5513d0ec5"
   },
   "outputs": [
    {
     "data": {
      "text/html": [
       "<div>\n",
       "<style scoped>\n",
       "    .dataframe tbody tr th:only-of-type {\n",
       "        vertical-align: middle;\n",
       "    }\n",
       "\n",
       "    .dataframe tbody tr th {\n",
       "        vertical-align: top;\n",
       "    }\n",
       "\n",
       "    .dataframe thead th {\n",
       "        text-align: right;\n",
       "    }\n",
       "</style>\n",
       "<table border=\"1\" class=\"dataframe\">\n",
       "  <thead>\n",
       "    <tr style=\"text-align: right;\">\n",
       "      <th></th>\n",
       "      <th>id</th>\n",
       "      <th>age</th>\n",
       "      <th>bp</th>\n",
       "      <th>sg</th>\n",
       "      <th>al</th>\n",
       "      <th>su</th>\n",
       "      <th>rbc</th>\n",
       "      <th>pc</th>\n",
       "      <th>pcc</th>\n",
       "      <th>ba</th>\n",
       "      <th>...</th>\n",
       "      <th>pcv</th>\n",
       "      <th>wc</th>\n",
       "      <th>rc</th>\n",
       "      <th>htn</th>\n",
       "      <th>dm</th>\n",
       "      <th>cad</th>\n",
       "      <th>appet</th>\n",
       "      <th>pe</th>\n",
       "      <th>ane</th>\n",
       "      <th>classification</th>\n",
       "    </tr>\n",
       "  </thead>\n",
       "  <tbody>\n",
       "    <tr>\n",
       "      <th>0</th>\n",
       "      <td>0</td>\n",
       "      <td>48.0</td>\n",
       "      <td>80.0</td>\n",
       "      <td>1.020</td>\n",
       "      <td>1.0</td>\n",
       "      <td>0.0</td>\n",
       "      <td>NaN</td>\n",
       "      <td>normal</td>\n",
       "      <td>notpresent</td>\n",
       "      <td>notpresent</td>\n",
       "      <td>...</td>\n",
       "      <td>44</td>\n",
       "      <td>7800</td>\n",
       "      <td>5.2</td>\n",
       "      <td>yes</td>\n",
       "      <td>yes</td>\n",
       "      <td>no</td>\n",
       "      <td>good</td>\n",
       "      <td>no</td>\n",
       "      <td>no</td>\n",
       "      <td>ckd</td>\n",
       "    </tr>\n",
       "    <tr>\n",
       "      <th>1</th>\n",
       "      <td>1</td>\n",
       "      <td>7.0</td>\n",
       "      <td>50.0</td>\n",
       "      <td>1.020</td>\n",
       "      <td>4.0</td>\n",
       "      <td>0.0</td>\n",
       "      <td>NaN</td>\n",
       "      <td>normal</td>\n",
       "      <td>notpresent</td>\n",
       "      <td>notpresent</td>\n",
       "      <td>...</td>\n",
       "      <td>38</td>\n",
       "      <td>6000</td>\n",
       "      <td>NaN</td>\n",
       "      <td>no</td>\n",
       "      <td>no</td>\n",
       "      <td>no</td>\n",
       "      <td>good</td>\n",
       "      <td>no</td>\n",
       "      <td>no</td>\n",
       "      <td>ckd</td>\n",
       "    </tr>\n",
       "    <tr>\n",
       "      <th>2</th>\n",
       "      <td>2</td>\n",
       "      <td>62.0</td>\n",
       "      <td>80.0</td>\n",
       "      <td>1.010</td>\n",
       "      <td>2.0</td>\n",
       "      <td>3.0</td>\n",
       "      <td>normal</td>\n",
       "      <td>normal</td>\n",
       "      <td>notpresent</td>\n",
       "      <td>notpresent</td>\n",
       "      <td>...</td>\n",
       "      <td>31</td>\n",
       "      <td>7500</td>\n",
       "      <td>NaN</td>\n",
       "      <td>no</td>\n",
       "      <td>yes</td>\n",
       "      <td>no</td>\n",
       "      <td>poor</td>\n",
       "      <td>no</td>\n",
       "      <td>yes</td>\n",
       "      <td>ckd</td>\n",
       "    </tr>\n",
       "    <tr>\n",
       "      <th>3</th>\n",
       "      <td>3</td>\n",
       "      <td>48.0</td>\n",
       "      <td>70.0</td>\n",
       "      <td>1.005</td>\n",
       "      <td>4.0</td>\n",
       "      <td>0.0</td>\n",
       "      <td>normal</td>\n",
       "      <td>abnormal</td>\n",
       "      <td>present</td>\n",
       "      <td>notpresent</td>\n",
       "      <td>...</td>\n",
       "      <td>32</td>\n",
       "      <td>6700</td>\n",
       "      <td>3.9</td>\n",
       "      <td>yes</td>\n",
       "      <td>no</td>\n",
       "      <td>no</td>\n",
       "      <td>poor</td>\n",
       "      <td>yes</td>\n",
       "      <td>yes</td>\n",
       "      <td>ckd</td>\n",
       "    </tr>\n",
       "    <tr>\n",
       "      <th>4</th>\n",
       "      <td>4</td>\n",
       "      <td>51.0</td>\n",
       "      <td>80.0</td>\n",
       "      <td>1.010</td>\n",
       "      <td>2.0</td>\n",
       "      <td>0.0</td>\n",
       "      <td>normal</td>\n",
       "      <td>normal</td>\n",
       "      <td>notpresent</td>\n",
       "      <td>notpresent</td>\n",
       "      <td>...</td>\n",
       "      <td>35</td>\n",
       "      <td>7300</td>\n",
       "      <td>4.6</td>\n",
       "      <td>no</td>\n",
       "      <td>no</td>\n",
       "      <td>no</td>\n",
       "      <td>good</td>\n",
       "      <td>no</td>\n",
       "      <td>no</td>\n",
       "      <td>ckd</td>\n",
       "    </tr>\n",
       "  </tbody>\n",
       "</table>\n",
       "<p>5 rows × 26 columns</p>\n",
       "</div>"
      ],
      "text/plain": [
       "   id   age    bp     sg   al   su     rbc        pc         pcc          ba  \\\n",
       "0   0  48.0  80.0  1.020  1.0  0.0     NaN    normal  notpresent  notpresent   \n",
       "1   1   7.0  50.0  1.020  4.0  0.0     NaN    normal  notpresent  notpresent   \n",
       "2   2  62.0  80.0  1.010  2.0  3.0  normal    normal  notpresent  notpresent   \n",
       "3   3  48.0  70.0  1.005  4.0  0.0  normal  abnormal     present  notpresent   \n",
       "4   4  51.0  80.0  1.010  2.0  0.0  normal    normal  notpresent  notpresent   \n",
       "\n",
       "       ...        pcv    wc   rc  htn   dm  cad appet   pe  ane classification  \n",
       "0      ...         44  7800  5.2  yes  yes   no  good   no   no            ckd  \n",
       "1      ...         38  6000  NaN   no   no   no  good   no   no            ckd  \n",
       "2      ...         31  7500  NaN   no  yes   no  poor   no  yes            ckd  \n",
       "3      ...         32  6700  3.9  yes   no   no  poor  yes  yes            ckd  \n",
       "4      ...         35  7300  4.6   no   no   no  good   no   no            ckd  \n",
       "\n",
       "[5 rows x 26 columns]"
      ]
     },
     "execution_count": 3,
     "metadata": {},
     "output_type": "execute_result"
    }
   ],
   "source": [
    "kidney_df.head()"
   ]
  },
  {
   "cell_type": "markdown",
   "metadata": {
    "colab_type": "text",
    "id": "9IIB083blFad"
   },
   "source": [
    "** There are 26 columns **"
   ]
  },
  {
   "cell_type": "code",
   "execution_count": 4,
   "metadata": {
    "colab": {},
    "colab_type": "code",
    "id": "xDzW13I1lFae",
    "outputId": "ce960136-4078-4b3a-b4aa-1c61c12c96a1"
   },
   "outputs": [
    {
     "name": "stdout",
     "output_type": "stream",
     "text": [
      "<class 'pandas.core.frame.DataFrame'>\n",
      "RangeIndex: 400 entries, 0 to 399\n",
      "Data columns (total 26 columns):\n",
      "id                400 non-null int64\n",
      "age               391 non-null float64\n",
      "bp                388 non-null float64\n",
      "sg                353 non-null float64\n",
      "al                354 non-null float64\n",
      "su                351 non-null float64\n",
      "rbc               248 non-null object\n",
      "pc                335 non-null object\n",
      "pcc               396 non-null object\n",
      "ba                396 non-null object\n",
      "bgr               356 non-null float64\n",
      "bu                381 non-null float64\n",
      "sc                383 non-null float64\n",
      "sod               313 non-null float64\n",
      "pot               312 non-null float64\n",
      "hemo              348 non-null float64\n",
      "pcv               330 non-null object\n",
      "wc                295 non-null object\n",
      "rc                270 non-null object\n",
      "htn               398 non-null object\n",
      "dm                398 non-null object\n",
      "cad               398 non-null object\n",
      "appet             399 non-null object\n",
      "pe                399 non-null object\n",
      "ane               399 non-null object\n",
      "classification    400 non-null object\n",
      "dtypes: float64(11), int64(1), object(14)\n",
      "memory usage: 81.3+ KB\n"
     ]
    }
   ],
   "source": [
    "kidney_df.info()"
   ]
  },
  {
   "cell_type": "markdown",
   "metadata": {
    "colab_type": "text",
    "id": "pFMvTB-YlFak"
   },
   "source": [
    "## Perform feature engineering on the columns to remove all the categorical columns and object datatype columns"
   ]
  },
  {
   "cell_type": "markdown",
   "metadata": {
    "colab_type": "text",
    "id": "6ZRHRq2wlFal"
   },
   "source": [
    "** There are a lot of object data types. We need to convert them to numeric before any further processing **"
   ]
  },
  {
   "cell_type": "code",
   "execution_count": 5,
   "metadata": {
    "colab": {},
    "colab_type": "code",
    "id": "HVP2ChQKlFan",
    "outputId": "d3616c09-b2f9-428b-d161-b8fb56559837"
   },
   "outputs": [
    {
     "data": {
      "text/plain": [
       "Index(['id', 'age', 'bp', 'sg', 'al', 'su', 'rbc', 'pc', 'pcc', 'ba', 'bgr',\n",
       "       'bu', 'sc', 'sod', 'pot', 'hemo', 'pcv', 'wc', 'rc', 'htn', 'dm', 'cad',\n",
       "       'appet', 'pe', 'ane', 'classification'],\n",
       "      dtype='object')"
      ]
     },
     "execution_count": 5,
     "metadata": {},
     "output_type": "execute_result"
    }
   ],
   "source": [
    "kidney_df.columns"
   ]
  },
  {
   "cell_type": "markdown",
   "metadata": {
    "colab_type": "text",
    "id": "wg2d02PnlFas"
   },
   "source": [
    "** These columns have numerical values but have object dtype **"
   ]
  },
  {
   "cell_type": "code",
   "execution_count": 6,
   "metadata": {
    "colab": {},
    "colab_type": "code",
    "id": "A4W247P8lFau"
   },
   "outputs": [],
   "source": [
    "#These columns have \\t? values\n",
    "\n",
    "kidney_df.drop(kidney_df.index[[66,214,185, 133, 162]], inplace=True)"
   ]
  },
  {
   "cell_type": "code",
   "execution_count": 7,
   "metadata": {
    "colab": {},
    "colab_type": "code",
    "id": "mM_z86FNlFay"
   },
   "outputs": [],
   "source": [
    "kidney_df[['pcv','wc','rc']] = kidney_df[['pcv','wc','rc']].apply(pd.to_numeric)"
   ]
  },
  {
   "cell_type": "markdown",
   "metadata": {
    "colab_type": "text",
    "id": "1vZ9wybLlFa3"
   },
   "source": [
    "** These columns are categorical **"
   ]
  },
  {
   "cell_type": "code",
   "execution_count": 8,
   "metadata": {
    "colab": {},
    "colab_type": "code",
    "id": "YciD_H0olFa4"
   },
   "outputs": [],
   "source": [
    "kidney_df[['htn','dm','cad','pe','ane']] = kidney_df[['htn','dm','cad','pe','ane']].replace(to_replace={'yes':1,'no':0})\n",
    "kidney_df['dm'] = kidney_df['dm'].replace(to_replace={'\\tno':0,'\\tyes':1,' yes':1, '':np.nan})\n",
    "kidney_df['cad'] = kidney_df['cad'].replace(to_replace='\\tno',value=0)\n",
    "\n",
    "kidney_df[['rbc','pc']] = kidney_df[['rbc','pc']].replace(to_replace={'abnormal':1,'normal':0})\n",
    "kidney_df[['pcc','ba']] = kidney_df[['pcc','ba']].replace(to_replace={'present':1,'notpresent':0})\n",
    "\n",
    "kidney_df[['appet']] = kidney_df[['appet']].replace(to_replace={'good':1,'poor':0})  #,'no':np.nan\n",
    "kidney_df['classification'] = kidney_df['classification'].replace(to_replace={'ckd':1.0,'ckd\\t':1.0,'notckd':0.0})  #,'no':0.0\n",
    "kidney_df.rename(columns={'classification':'class'},inplace=True)"
   ]
  },
  {
   "cell_type": "code",
   "execution_count": 9,
   "metadata": {
    "colab": {},
    "colab_type": "code",
    "id": "Nt7NB7BIlFa8"
   },
   "outputs": [],
   "source": [
    "kidney_df['pe'] = kidney_df['pe'].replace(to_replace='good',value=0) # Not having pedal edema is good\n",
    "kidney_df['appet'] = kidney_df['appet'].replace(to_replace='no',value=0)\n",
    "\n",
    "# Dropping the index column\n",
    "kidney_df.drop('id',axis=1,inplace=True)"
   ]
  },
  {
   "cell_type": "code",
   "execution_count": 10,
   "metadata": {
    "colab": {},
    "colab_type": "code",
    "id": "0ULSRjcqlFbB",
    "outputId": "c8b5aa69-0858-4bc7-dc6a-72d26b231c02"
   },
   "outputs": [
    {
     "name": "stdout",
     "output_type": "stream",
     "text": [
      "<class 'pandas.core.frame.DataFrame'>\n",
      "Int64Index: 395 entries, 0 to 399\n",
      "Data columns (total 25 columns):\n",
      "age      386 non-null float64\n",
      "bp       384 non-null float64\n",
      "sg       349 non-null float64\n",
      "al       350 non-null float64\n",
      "su       347 non-null float64\n",
      "rbc      246 non-null float64\n",
      "pc       331 non-null float64\n",
      "pcc      391 non-null float64\n",
      "ba       391 non-null float64\n",
      "bgr      351 non-null float64\n",
      "bu       376 non-null float64\n",
      "sc       378 non-null float64\n",
      "sod      309 non-null float64\n",
      "pot      308 non-null float64\n",
      "hemo     344 non-null float64\n",
      "pcv      325 non-null float64\n",
      "wc       291 non-null float64\n",
      "rc       267 non-null float64\n",
      "htn      393 non-null float64\n",
      "dm       393 non-null float64\n",
      "cad      393 non-null float64\n",
      "appet    394 non-null float64\n",
      "pe       394 non-null float64\n",
      "ane      394 non-null float64\n",
      "class    395 non-null float64\n",
      "dtypes: float64(25)\n",
      "memory usage: 80.2 KB\n"
     ]
    }
   ],
   "source": [
    "kidney_df.info()"
   ]
  },
  {
   "cell_type": "markdown",
   "metadata": {
    "colab_type": "text",
    "id": "1l_c9bbalFbH"
   },
   "source": [
    "** Now we have converted all the object columns in float64 **"
   ]
  },
  {
   "cell_type": "markdown",
   "metadata": {
    "colab_type": "text",
    "id": "Ub9Aw9lvlFbI"
   },
   "source": [
    "## Question: Remove missing values from the data frame"
   ]
  },
  {
   "cell_type": "code",
   "execution_count": 11,
   "metadata": {},
   "outputs": [
    {
     "data": {
      "text/plain": [
       "age        9\n",
       "bp        11\n",
       "sg        46\n",
       "al        45\n",
       "su        48\n",
       "rbc      149\n",
       "pc        64\n",
       "pcc        4\n",
       "ba         4\n",
       "bgr       44\n",
       "bu        19\n",
       "sc        17\n",
       "sod       86\n",
       "pot       87\n",
       "hemo      51\n",
       "pcv       70\n",
       "wc       104\n",
       "rc       128\n",
       "htn        2\n",
       "dm         2\n",
       "cad        2\n",
       "appet      1\n",
       "pe         1\n",
       "ane        1\n",
       "class      0\n",
       "dtype: int64"
      ]
     },
     "execution_count": 11,
     "metadata": {},
     "output_type": "execute_result"
    }
   ],
   "source": [
    "kidney_df.isnull().sum()"
   ]
  },
  {
   "cell_type": "markdown",
   "metadata": {},
   "source": [
    "# As there are more missing values in rbc, wc & rc we will drop it"
   ]
  },
  {
   "cell_type": "code",
   "execution_count": 12,
   "metadata": {},
   "outputs": [
    {
     "data": {
      "text/html": [
       "<div>\n",
       "<style scoped>\n",
       "    .dataframe tbody tr th:only-of-type {\n",
       "        vertical-align: middle;\n",
       "    }\n",
       "\n",
       "    .dataframe tbody tr th {\n",
       "        vertical-align: top;\n",
       "    }\n",
       "\n",
       "    .dataframe thead th {\n",
       "        text-align: right;\n",
       "    }\n",
       "</style>\n",
       "<table border=\"1\" class=\"dataframe\">\n",
       "  <thead>\n",
       "    <tr style=\"text-align: right;\">\n",
       "      <th></th>\n",
       "      <th>age</th>\n",
       "      <th>bp</th>\n",
       "      <th>sg</th>\n",
       "      <th>al</th>\n",
       "      <th>su</th>\n",
       "      <th>pc</th>\n",
       "      <th>pcc</th>\n",
       "      <th>ba</th>\n",
       "      <th>bgr</th>\n",
       "      <th>bu</th>\n",
       "      <th>...</th>\n",
       "      <th>pot</th>\n",
       "      <th>hemo</th>\n",
       "      <th>pcv</th>\n",
       "      <th>htn</th>\n",
       "      <th>dm</th>\n",
       "      <th>cad</th>\n",
       "      <th>appet</th>\n",
       "      <th>pe</th>\n",
       "      <th>ane</th>\n",
       "      <th>class</th>\n",
       "    </tr>\n",
       "  </thead>\n",
       "  <tbody>\n",
       "    <tr>\n",
       "      <th>0</th>\n",
       "      <td>48.0</td>\n",
       "      <td>80.0</td>\n",
       "      <td>1.020</td>\n",
       "      <td>1.0</td>\n",
       "      <td>0.0</td>\n",
       "      <td>0.0</td>\n",
       "      <td>0.0</td>\n",
       "      <td>0.0</td>\n",
       "      <td>121.0</td>\n",
       "      <td>36.0</td>\n",
       "      <td>...</td>\n",
       "      <td>NaN</td>\n",
       "      <td>15.4</td>\n",
       "      <td>44.0</td>\n",
       "      <td>1.0</td>\n",
       "      <td>1.0</td>\n",
       "      <td>0.0</td>\n",
       "      <td>1.0</td>\n",
       "      <td>0.0</td>\n",
       "      <td>0.0</td>\n",
       "      <td>1.0</td>\n",
       "    </tr>\n",
       "    <tr>\n",
       "      <th>1</th>\n",
       "      <td>7.0</td>\n",
       "      <td>50.0</td>\n",
       "      <td>1.020</td>\n",
       "      <td>4.0</td>\n",
       "      <td>0.0</td>\n",
       "      <td>0.0</td>\n",
       "      <td>0.0</td>\n",
       "      <td>0.0</td>\n",
       "      <td>NaN</td>\n",
       "      <td>18.0</td>\n",
       "      <td>...</td>\n",
       "      <td>NaN</td>\n",
       "      <td>11.3</td>\n",
       "      <td>38.0</td>\n",
       "      <td>0.0</td>\n",
       "      <td>0.0</td>\n",
       "      <td>0.0</td>\n",
       "      <td>1.0</td>\n",
       "      <td>0.0</td>\n",
       "      <td>0.0</td>\n",
       "      <td>1.0</td>\n",
       "    </tr>\n",
       "    <tr>\n",
       "      <th>2</th>\n",
       "      <td>62.0</td>\n",
       "      <td>80.0</td>\n",
       "      <td>1.010</td>\n",
       "      <td>2.0</td>\n",
       "      <td>3.0</td>\n",
       "      <td>0.0</td>\n",
       "      <td>0.0</td>\n",
       "      <td>0.0</td>\n",
       "      <td>423.0</td>\n",
       "      <td>53.0</td>\n",
       "      <td>...</td>\n",
       "      <td>NaN</td>\n",
       "      <td>9.6</td>\n",
       "      <td>31.0</td>\n",
       "      <td>0.0</td>\n",
       "      <td>1.0</td>\n",
       "      <td>0.0</td>\n",
       "      <td>0.0</td>\n",
       "      <td>0.0</td>\n",
       "      <td>1.0</td>\n",
       "      <td>1.0</td>\n",
       "    </tr>\n",
       "    <tr>\n",
       "      <th>3</th>\n",
       "      <td>48.0</td>\n",
       "      <td>70.0</td>\n",
       "      <td>1.005</td>\n",
       "      <td>4.0</td>\n",
       "      <td>0.0</td>\n",
       "      <td>1.0</td>\n",
       "      <td>1.0</td>\n",
       "      <td>0.0</td>\n",
       "      <td>117.0</td>\n",
       "      <td>56.0</td>\n",
       "      <td>...</td>\n",
       "      <td>2.5</td>\n",
       "      <td>11.2</td>\n",
       "      <td>32.0</td>\n",
       "      <td>1.0</td>\n",
       "      <td>0.0</td>\n",
       "      <td>0.0</td>\n",
       "      <td>0.0</td>\n",
       "      <td>1.0</td>\n",
       "      <td>1.0</td>\n",
       "      <td>1.0</td>\n",
       "    </tr>\n",
       "    <tr>\n",
       "      <th>4</th>\n",
       "      <td>51.0</td>\n",
       "      <td>80.0</td>\n",
       "      <td>1.010</td>\n",
       "      <td>2.0</td>\n",
       "      <td>0.0</td>\n",
       "      <td>0.0</td>\n",
       "      <td>0.0</td>\n",
       "      <td>0.0</td>\n",
       "      <td>106.0</td>\n",
       "      <td>26.0</td>\n",
       "      <td>...</td>\n",
       "      <td>NaN</td>\n",
       "      <td>11.6</td>\n",
       "      <td>35.0</td>\n",
       "      <td>0.0</td>\n",
       "      <td>0.0</td>\n",
       "      <td>0.0</td>\n",
       "      <td>1.0</td>\n",
       "      <td>0.0</td>\n",
       "      <td>0.0</td>\n",
       "      <td>1.0</td>\n",
       "    </tr>\n",
       "  </tbody>\n",
       "</table>\n",
       "<p>5 rows × 22 columns</p>\n",
       "</div>"
      ],
      "text/plain": [
       "    age    bp     sg   al   su   pc  pcc   ba    bgr    bu  ...    pot  hemo  \\\n",
       "0  48.0  80.0  1.020  1.0  0.0  0.0  0.0  0.0  121.0  36.0  ...    NaN  15.4   \n",
       "1   7.0  50.0  1.020  4.0  0.0  0.0  0.0  0.0    NaN  18.0  ...    NaN  11.3   \n",
       "2  62.0  80.0  1.010  2.0  3.0  0.0  0.0  0.0  423.0  53.0  ...    NaN   9.6   \n",
       "3  48.0  70.0  1.005  4.0  0.0  1.0  1.0  0.0  117.0  56.0  ...    2.5  11.2   \n",
       "4  51.0  80.0  1.010  2.0  0.0  0.0  0.0  0.0  106.0  26.0  ...    NaN  11.6   \n",
       "\n",
       "    pcv  htn   dm  cad  appet   pe  ane  class  \n",
       "0  44.0  1.0  1.0  0.0    1.0  0.0  0.0    1.0  \n",
       "1  38.0  0.0  0.0  0.0    1.0  0.0  0.0    1.0  \n",
       "2  31.0  0.0  1.0  0.0    0.0  0.0  1.0    1.0  \n",
       "3  32.0  1.0  0.0  0.0    0.0  1.0  1.0    1.0  \n",
       "4  35.0  0.0  0.0  0.0    1.0  0.0  0.0    1.0  \n",
       "\n",
       "[5 rows x 22 columns]"
      ]
     },
     "execution_count": 12,
     "metadata": {},
     "output_type": "execute_result"
    }
   ],
   "source": [
    "kidney_df.drop(['rbc','wc','rc'],axis=1,inplace=True)\n",
    "kidney_df.head()"
   ]
  },
  {
   "cell_type": "code",
   "execution_count": 13,
   "metadata": {},
   "outputs": [],
   "source": [
    "# now replacing everything with mean for nan values\n",
    "kidney_df = kidney_df.fillna(kidney_df.mean())"
   ]
  },
  {
   "cell_type": "code",
   "execution_count": 14,
   "metadata": {},
   "outputs": [
    {
     "data": {
      "text/plain": [
       "age      0\n",
       "bp       0\n",
       "sg       0\n",
       "al       0\n",
       "su       0\n",
       "pc       0\n",
       "pcc      0\n",
       "ba       0\n",
       "bgr      0\n",
       "bu       0\n",
       "sc       0\n",
       "sod      0\n",
       "pot      0\n",
       "hemo     0\n",
       "pcv      0\n",
       "htn      0\n",
       "dm       0\n",
       "cad      0\n",
       "appet    0\n",
       "pe       0\n",
       "ane      0\n",
       "class    0\n",
       "dtype: int64"
      ]
     },
     "execution_count": 14,
     "metadata": {},
     "output_type": "execute_result"
    }
   ],
   "source": [
    "# check whether missing values are replaced or not\n",
    "kidney_df.isnull().sum()"
   ]
  },
  {
   "cell_type": "markdown",
   "metadata": {
    "colab_type": "text",
    "id": "Fc5xA3DLlFbh"
   },
   "source": [
    "## Question : Perform Descriptive Statistics on the dataset and come up with insights on shape, spread and central deviation "
   ]
  },
  {
   "cell_type": "code",
   "execution_count": 15,
   "metadata": {},
   "outputs": [
    {
     "data": {
      "text/html": [
       "<div>\n",
       "<style scoped>\n",
       "    .dataframe tbody tr th:only-of-type {\n",
       "        vertical-align: middle;\n",
       "    }\n",
       "\n",
       "    .dataframe tbody tr th {\n",
       "        vertical-align: top;\n",
       "    }\n",
       "\n",
       "    .dataframe thead th {\n",
       "        text-align: right;\n",
       "    }\n",
       "</style>\n",
       "<table border=\"1\" class=\"dataframe\">\n",
       "  <thead>\n",
       "    <tr style=\"text-align: right;\">\n",
       "      <th></th>\n",
       "      <th>age</th>\n",
       "      <th>bp</th>\n",
       "      <th>sg</th>\n",
       "      <th>al</th>\n",
       "      <th>su</th>\n",
       "      <th>pc</th>\n",
       "      <th>pcc</th>\n",
       "      <th>ba</th>\n",
       "      <th>bgr</th>\n",
       "      <th>bu</th>\n",
       "      <th>...</th>\n",
       "      <th>pot</th>\n",
       "      <th>hemo</th>\n",
       "      <th>pcv</th>\n",
       "      <th>htn</th>\n",
       "      <th>dm</th>\n",
       "      <th>cad</th>\n",
       "      <th>appet</th>\n",
       "      <th>pe</th>\n",
       "      <th>ane</th>\n",
       "      <th>class</th>\n",
       "    </tr>\n",
       "  </thead>\n",
       "  <tbody>\n",
       "    <tr>\n",
       "      <th>count</th>\n",
       "      <td>395.000000</td>\n",
       "      <td>395.000000</td>\n",
       "      <td>395.000000</td>\n",
       "      <td>395.000000</td>\n",
       "      <td>395.000000</td>\n",
       "      <td>395.000000</td>\n",
       "      <td>395.000000</td>\n",
       "      <td>395.000000</td>\n",
       "      <td>395.000000</td>\n",
       "      <td>395.000000</td>\n",
       "      <td>...</td>\n",
       "      <td>395.000000</td>\n",
       "      <td>395.000000</td>\n",
       "      <td>395.000000</td>\n",
       "      <td>395.000000</td>\n",
       "      <td>395.000000</td>\n",
       "      <td>395.000000</td>\n",
       "      <td>395.000000</td>\n",
       "      <td>395.000000</td>\n",
       "      <td>395.000000</td>\n",
       "      <td>395.000000</td>\n",
       "    </tr>\n",
       "    <tr>\n",
       "      <th>mean</th>\n",
       "      <td>51.455959</td>\n",
       "      <td>76.432292</td>\n",
       "      <td>1.017407</td>\n",
       "      <td>1.008571</td>\n",
       "      <td>0.455331</td>\n",
       "      <td>0.226586</td>\n",
       "      <td>0.107417</td>\n",
       "      <td>0.056266</td>\n",
       "      <td>148.031339</td>\n",
       "      <td>57.479255</td>\n",
       "      <td>...</td>\n",
       "      <td>4.628247</td>\n",
       "      <td>12.534012</td>\n",
       "      <td>38.898462</td>\n",
       "      <td>0.368957</td>\n",
       "      <td>0.340967</td>\n",
       "      <td>0.086514</td>\n",
       "      <td>0.791878</td>\n",
       "      <td>0.190355</td>\n",
       "      <td>0.152284</td>\n",
       "      <td>0.620253</td>\n",
       "    </tr>\n",
       "    <tr>\n",
       "      <th>std</th>\n",
       "      <td>16.845351</td>\n",
       "      <td>13.500540</td>\n",
       "      <td>0.005397</td>\n",
       "      <td>1.269492</td>\n",
       "      <td>1.034994</td>\n",
       "      <td>0.383697</td>\n",
       "      <td>0.308461</td>\n",
       "      <td>0.229556</td>\n",
       "      <td>75.138023</td>\n",
       "      <td>49.416675</td>\n",
       "      <td>...</td>\n",
       "      <td>2.837424</td>\n",
       "      <td>2.728991</td>\n",
       "      <td>8.195215</td>\n",
       "      <td>0.481909</td>\n",
       "      <td>0.473432</td>\n",
       "      <td>0.280765</td>\n",
       "      <td>0.405964</td>\n",
       "      <td>0.392581</td>\n",
       "      <td>0.359296</td>\n",
       "      <td>0.485939</td>\n",
       "    </tr>\n",
       "    <tr>\n",
       "      <th>min</th>\n",
       "      <td>2.000000</td>\n",
       "      <td>50.000000</td>\n",
       "      <td>1.005000</td>\n",
       "      <td>0.000000</td>\n",
       "      <td>0.000000</td>\n",
       "      <td>0.000000</td>\n",
       "      <td>0.000000</td>\n",
       "      <td>0.000000</td>\n",
       "      <td>22.000000</td>\n",
       "      <td>1.500000</td>\n",
       "      <td>...</td>\n",
       "      <td>2.500000</td>\n",
       "      <td>3.100000</td>\n",
       "      <td>9.000000</td>\n",
       "      <td>0.000000</td>\n",
       "      <td>0.000000</td>\n",
       "      <td>0.000000</td>\n",
       "      <td>0.000000</td>\n",
       "      <td>0.000000</td>\n",
       "      <td>0.000000</td>\n",
       "      <td>0.000000</td>\n",
       "    </tr>\n",
       "    <tr>\n",
       "      <th>25%</th>\n",
       "      <td>42.000000</td>\n",
       "      <td>70.000000</td>\n",
       "      <td>1.015000</td>\n",
       "      <td>0.000000</td>\n",
       "      <td>0.000000</td>\n",
       "      <td>0.000000</td>\n",
       "      <td>0.000000</td>\n",
       "      <td>0.000000</td>\n",
       "      <td>101.000000</td>\n",
       "      <td>27.000000</td>\n",
       "      <td>...</td>\n",
       "      <td>4.000000</td>\n",
       "      <td>10.850000</td>\n",
       "      <td>34.000000</td>\n",
       "      <td>0.000000</td>\n",
       "      <td>0.000000</td>\n",
       "      <td>0.000000</td>\n",
       "      <td>1.000000</td>\n",
       "      <td>0.000000</td>\n",
       "      <td>0.000000</td>\n",
       "      <td>0.000000</td>\n",
       "    </tr>\n",
       "    <tr>\n",
       "      <th>50%</th>\n",
       "      <td>54.000000</td>\n",
       "      <td>80.000000</td>\n",
       "      <td>1.017407</td>\n",
       "      <td>0.000000</td>\n",
       "      <td>0.000000</td>\n",
       "      <td>0.000000</td>\n",
       "      <td>0.000000</td>\n",
       "      <td>0.000000</td>\n",
       "      <td>125.000000</td>\n",
       "      <td>44.000000</td>\n",
       "      <td>...</td>\n",
       "      <td>4.628247</td>\n",
       "      <td>12.534012</td>\n",
       "      <td>38.898462</td>\n",
       "      <td>0.000000</td>\n",
       "      <td>0.000000</td>\n",
       "      <td>0.000000</td>\n",
       "      <td>1.000000</td>\n",
       "      <td>0.000000</td>\n",
       "      <td>0.000000</td>\n",
       "      <td>1.000000</td>\n",
       "    </tr>\n",
       "    <tr>\n",
       "      <th>75%</th>\n",
       "      <td>64.000000</td>\n",
       "      <td>80.000000</td>\n",
       "      <td>1.020000</td>\n",
       "      <td>2.000000</td>\n",
       "      <td>0.455331</td>\n",
       "      <td>0.226586</td>\n",
       "      <td>0.000000</td>\n",
       "      <td>0.000000</td>\n",
       "      <td>149.015670</td>\n",
       "      <td>62.500000</td>\n",
       "      <td>...</td>\n",
       "      <td>4.800000</td>\n",
       "      <td>14.700000</td>\n",
       "      <td>44.000000</td>\n",
       "      <td>1.000000</td>\n",
       "      <td>1.000000</td>\n",
       "      <td>0.000000</td>\n",
       "      <td>1.000000</td>\n",
       "      <td>0.000000</td>\n",
       "      <td>0.000000</td>\n",
       "      <td>1.000000</td>\n",
       "    </tr>\n",
       "    <tr>\n",
       "      <th>max</th>\n",
       "      <td>90.000000</td>\n",
       "      <td>180.000000</td>\n",
       "      <td>1.025000</td>\n",
       "      <td>5.000000</td>\n",
       "      <td>5.000000</td>\n",
       "      <td>1.000000</td>\n",
       "      <td>1.000000</td>\n",
       "      <td>1.000000</td>\n",
       "      <td>490.000000</td>\n",
       "      <td>391.000000</td>\n",
       "      <td>...</td>\n",
       "      <td>47.000000</td>\n",
       "      <td>17.800000</td>\n",
       "      <td>54.000000</td>\n",
       "      <td>1.000000</td>\n",
       "      <td>1.000000</td>\n",
       "      <td>1.000000</td>\n",
       "      <td>1.000000</td>\n",
       "      <td>1.000000</td>\n",
       "      <td>1.000000</td>\n",
       "      <td>1.000000</td>\n",
       "    </tr>\n",
       "  </tbody>\n",
       "</table>\n",
       "<p>8 rows × 22 columns</p>\n",
       "</div>"
      ],
      "text/plain": [
       "              age          bp          sg          al          su          pc  \\\n",
       "count  395.000000  395.000000  395.000000  395.000000  395.000000  395.000000   \n",
       "mean    51.455959   76.432292    1.017407    1.008571    0.455331    0.226586   \n",
       "std     16.845351   13.500540    0.005397    1.269492    1.034994    0.383697   \n",
       "min      2.000000   50.000000    1.005000    0.000000    0.000000    0.000000   \n",
       "25%     42.000000   70.000000    1.015000    0.000000    0.000000    0.000000   \n",
       "50%     54.000000   80.000000    1.017407    0.000000    0.000000    0.000000   \n",
       "75%     64.000000   80.000000    1.020000    2.000000    0.455331    0.226586   \n",
       "max     90.000000  180.000000    1.025000    5.000000    5.000000    1.000000   \n",
       "\n",
       "              pcc          ba         bgr          bu     ...             pot  \\\n",
       "count  395.000000  395.000000  395.000000  395.000000     ...      395.000000   \n",
       "mean     0.107417    0.056266  148.031339   57.479255     ...        4.628247   \n",
       "std      0.308461    0.229556   75.138023   49.416675     ...        2.837424   \n",
       "min      0.000000    0.000000   22.000000    1.500000     ...        2.500000   \n",
       "25%      0.000000    0.000000  101.000000   27.000000     ...        4.000000   \n",
       "50%      0.000000    0.000000  125.000000   44.000000     ...        4.628247   \n",
       "75%      0.000000    0.000000  149.015670   62.500000     ...        4.800000   \n",
       "max      1.000000    1.000000  490.000000  391.000000     ...       47.000000   \n",
       "\n",
       "             hemo         pcv         htn          dm         cad       appet  \\\n",
       "count  395.000000  395.000000  395.000000  395.000000  395.000000  395.000000   \n",
       "mean    12.534012   38.898462    0.368957    0.340967    0.086514    0.791878   \n",
       "std      2.728991    8.195215    0.481909    0.473432    0.280765    0.405964   \n",
       "min      3.100000    9.000000    0.000000    0.000000    0.000000    0.000000   \n",
       "25%     10.850000   34.000000    0.000000    0.000000    0.000000    1.000000   \n",
       "50%     12.534012   38.898462    0.000000    0.000000    0.000000    1.000000   \n",
       "75%     14.700000   44.000000    1.000000    1.000000    0.000000    1.000000   \n",
       "max     17.800000   54.000000    1.000000    1.000000    1.000000    1.000000   \n",
       "\n",
       "               pe         ane       class  \n",
       "count  395.000000  395.000000  395.000000  \n",
       "mean     0.190355    0.152284    0.620253  \n",
       "std      0.392581    0.359296    0.485939  \n",
       "min      0.000000    0.000000    0.000000  \n",
       "25%      0.000000    0.000000    0.000000  \n",
       "50%      0.000000    0.000000    1.000000  \n",
       "75%      0.000000    0.000000    1.000000  \n",
       "max      1.000000    1.000000    1.000000  \n",
       "\n",
       "[8 rows x 22 columns]"
      ]
     },
     "execution_count": 15,
     "metadata": {},
     "output_type": "execute_result"
    }
   ],
   "source": [
    "kidney_df.describe()"
   ]
  },
  {
   "cell_type": "markdown",
   "metadata": {
    "colab_type": "text",
    "id": "TsGb18GilFbm"
   },
   "source": [
    "## Question : Perform EDA and find any correlation"
   ]
  },
  {
   "cell_type": "code",
   "execution_count": 16,
   "metadata": {},
   "outputs": [
    {
     "data": {
      "image/png": "[encoded data removed]",
      "text/plain": [
       "<Figure size 1008x864 with 25 Axes>"
      ]
     },
     "metadata": {},
     "output_type": "display_data"
    }
   ],
   "source": [
    "kidney_df.hist(bins=10,figsize=(14,12))\n",
    "plt.show()"
   ]
  },
  {
   "cell_type": "code",
   "execution_count": 17,
   "metadata": {},
   "outputs": [
    {
     "data": {
      "image/png": "[encoded data removed]",
      "text/plain": [
       "<Figure size 432x288 with 2 Axes>"
      ]
     },
     "metadata": {},
     "output_type": "display_data"
    }
   ],
   "source": [
    "sns.heatmap(kidney_df.corr(),annot=True)\n",
    "plt.show()"
   ]
  },
  {
   "cell_type": "markdown",
   "metadata": {
    "colab_type": "text",
    "id": "INBU1ORJlFbv"
   },
   "source": [
    "## Question: Perform classification using Decision Tree algorithm and explain the performance"
   ]
  },
  {
   "cell_type": "code",
   "execution_count": 18,
   "metadata": {},
   "outputs": [],
   "source": [
    "x = kidney_df.drop(['class'],axis=1)\n",
    "y = kidney_df['class']"
   ]
  },
  {
   "cell_type": "code",
   "execution_count": 19,
   "metadata": {},
   "outputs": [
    {
     "name": "stderr",
     "output_type": "stream",
     "text": [
      "F:\\anaconda3\\lib\\site-packages\\sklearn\\cross_validation.py:41: DeprecationWarning: This module was deprecated in version 0.18 in favor of the model_selection module into which all the refactored classes and functions are moved. Also note that the interface of the new CV iterators are different from that of this module. This module will be removed in 0.20.\n",
      "  \"This module will be removed in 0.20.\", DeprecationWarning)\n"
     ]
    }
   ],
   "source": [
    "from sklearn.cross_validation import train_test_split\n",
    "x_train,x_test,y_train,y_test = train_test_split(x,y,random_state=21)"
   ]
  },
  {
   "cell_type": "code",
   "execution_count": 20,
   "metadata": {},
   "outputs": [],
   "source": [
    "from sklearn.tree import DecisionTreeClassifier\n",
    "tree = DecisionTreeClassifier(criterion = 'entropy',random_state=45)"
   ]
  },
  {
   "cell_type": "code",
   "execution_count": 21,
   "metadata": {},
   "outputs": [],
   "source": [
    "tree.fit(x_train,y_train)\n",
    "pred = tree.predict(x_test)"
   ]
  },
  {
   "cell_type": "code",
   "execution_count": 22,
   "metadata": {},
   "outputs": [],
   "source": [
    "from sklearn.metrics import accuracy_score,confusion_matrix,classification_report"
   ]
  },
  {
   "cell_type": "code",
   "execution_count": 23,
   "metadata": {},
   "outputs": [
    {
     "data": {
      "text/plain": [
       "array([[39,  1],\n",
       "       [ 1, 58]], dtype=int64)"
      ]
     },
     "execution_count": 23,
     "metadata": {},
     "output_type": "execute_result"
    }
   ],
   "source": [
    "confusion_matrix(y_test,pred)"
   ]
  },
  {
   "cell_type": "code",
   "execution_count": 24,
   "metadata": {},
   "outputs": [
    {
     "data": {
      "text/plain": [
       "0.9797979797979798"
      ]
     },
     "execution_count": 24,
     "metadata": {},
     "output_type": "execute_result"
    }
   ],
   "source": [
    "accuracy_score(y_test,pred)"
   ]
  },
  {
   "cell_type": "code",
   "execution_count": 25,
   "metadata": {},
   "outputs": [
    {
     "name": "stdout",
     "output_type": "stream",
     "text": [
      "             precision    recall  f1-score   support\n",
      "\n",
      "        0.0       0.97      0.97      0.97        40\n",
      "        1.0       0.98      0.98      0.98        59\n",
      "\n",
      "avg / total       0.98      0.98      0.98        99\n",
      "\n"
     ]
    }
   ],
   "source": [
    "cr = classification_report(y_test,pred)\n",
    "print(cr)"
   ]
  },
  {
   "cell_type": "markdown",
   "metadata": {},
   "source": [
    "Recall should be greater than precision\n",
    "\n",
    "TN = 39\n",
    "\n",
    "TP = 58\n",
    "\n",
    "FP = 1\n",
    "\n",
    "FN = 1"
   ]
  },
  {
   "cell_type": "markdown",
   "metadata": {},
   "source": [
    "precision for class 1 is TP/(TP+FP) = 58/(58+1) = 0.983"
   ]
  },
  {
   "cell_type": "markdown",
   "metadata": {},
   "source": [
    "Recall for class 1 is TP/(TP+FN) = 58/(58+1) = 0.983"
   ]
  },
  {
   "cell_type": "markdown",
   "metadata": {},
   "source": [
    "Here precision and recall have same accuracy score. So what should be do here"
   ]
  },
  {
   "cell_type": "markdown",
   "metadata": {
    "colab_type": "text",
    "id": "O1_hxBF5lFcY"
   },
   "source": [
    "## Question: Perform classification using Random Forest and explain the metrics"
   ]
  },
  {
   "cell_type": "code",
   "execution_count": 26,
   "metadata": {},
   "outputs": [],
   "source": [
    "from sklearn.ensemble import RandomForestClassifier\n",
    "forest = RandomForestClassifier(n_estimators=10,criterion='entropy',random_state=122)\n",
    "forest.fit(x_train,y_train)\n",
    "pred_rf = forest.predict(x_test)"
   ]
  },
  {
   "cell_type": "code",
   "execution_count": 27,
   "metadata": {},
   "outputs": [
    {
     "data": {
      "text/plain": [
       "array([[40,  0],\n",
       "       [ 0, 59]], dtype=int64)"
      ]
     },
     "execution_count": 27,
     "metadata": {},
     "output_type": "execute_result"
    }
   ],
   "source": [
    "confusion_matrix(y_test,pred_rf)"
   ]
  },
  {
   "cell_type": "code",
   "execution_count": 28,
   "metadata": {},
   "outputs": [
    {
     "data": {
      "text/plain": [
       "1.0"
      ]
     },
     "execution_count": 28,
     "metadata": {},
     "output_type": "execute_result"
    }
   ],
   "source": [
    "accuracy_score(y_test,pred_rf)"
   ]
  },
  {
   "cell_type": "code",
   "execution_count": 29,
   "metadata": {},
   "outputs": [
    {
     "name": "stdout",
     "output_type": "stream",
     "text": [
      "             precision    recall  f1-score   support\n",
      "\n",
      "        0.0       1.00      1.00      1.00        40\n",
      "        1.0       1.00      1.00      1.00        59\n",
      "\n",
      "avg / total       1.00      1.00      1.00        99\n",
      "\n"
     ]
    }
   ],
   "source": [
    "cr = classification_report(y_test,pred_rf)\n",
    "print(cr)"
   ]
  },
  {
   "cell_type": "markdown",
   "metadata": {},
   "source": [
    "TP = 59\n",
    "\n",
    "TN = 40\n",
    "\n",
    "FP = 0\n",
    "\n",
    "FN = 0"
   ]
  },
  {
   "cell_type": "markdown",
   "metadata": {},
   "source": [
    "precision = TP/(TP+FP) = 59/59 = 1\n",
    "\n",
    "Recall = TP/(TP+FN) = 59/59 = 1"
   ]
  },
  {
   "cell_type": "markdown",
   "metadata": {},
   "source": [
    "The accuracy has been increased for Random forest compared to Decision Tree, but both the models of precision and recall are\n",
    "same. Now\n",
    "\n",
    "RF Model - 40 people doesn't have ckd disease & 59 people have ckd disease (precision & recall have 1)\n",
    "\n",
    "DT Model - 40 people doesn't have ckd disease & 59 people have ckd disease (precision & recall have 0.983)"
   ]
  },
  {
   "cell_type": "markdown",
   "metadata": {},
   "source": [
    "# The End"
   ]
  }
 ],
 "metadata": {
  "colab": {
   "collapsed_sections": [],
   "name": "Question.ipynb",
   "provenance": [],
   "version": "0.3.2"
  },
  "kernelspec": {
   "display_name": "Python 3",
   "language": "python",
   "name": "python3"
  },
  "language_info": {
   "codemirror_mode": {
    "name": "ipython",
    "version": 3
   },
   "file_extension": ".py",
   "mimetype": "text/x-python",
   "name": "python",
   "nbconvert_exporter": "python",
   "pygments_lexer": "ipython3",
   "version": "3.6.5"
  }
 },
 "nbformat": 4,
 "nbformat_minor": 1
}
